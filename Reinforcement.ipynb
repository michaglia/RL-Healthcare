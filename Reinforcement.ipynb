{
 "cells": [
  {
   "cell_type": "code",
   "execution_count": 1,
   "metadata": {},
   "outputs": [],
   "source": [
    "import tensorflow\n",
    "import gym\n",
    "import keras\n",
    "import random\n",
    "import numpy as np\n",
    "from gym import Env\n",
    "from Health_Env import *\n",
    "from variables import *"
   ]
  },
  {
   "cell_type": "code",
   "execution_count": 2,
   "metadata": {},
   "outputs": [],
   "source": [
    "env = Manage_healthcare()"
   ]
  },
  {
   "cell_type": "code",
   "execution_count": 5,
   "metadata": {},
   "outputs": [
    {
     "name": "stdout",
     "output_type": "stream",
     "text": [
      "Episode: 1, Action: 0, Reward: 998, State: (998, 53, 46)\n",
      "Episode: 1, Action: 0, Reward: 996, State: (996, 56, 47)\n",
      "Episode: 1, Action: 1, Reward: 995, State: (995, 56, 49)\n",
      "Episode: 1, Action: 1, Reward: 994, State: (994, 56, 50)\n",
      "Episode: 1, Action: 1, Reward: 993, State: (993, 56, 51)\n",
      "Episode: 1, Action: 0, Reward: 991, State: (991, 59, 54)\n",
      "Episode: 1, Action: 0, Reward: 989, State: (989, 62, 56)\n",
      "Episode: 1, Action: 0, Reward: 987, State: (987, 65, 58)\n",
      "Episode: 1, Action: 1, Reward: 986, State: (986, 65, 60)\n",
      "Episode: 1, Action: 2, Reward: 988, State: (988, 65, 61)\n",
      "Episode: 1, Action: 2, Reward: 990, State: (990, 65, 64)\n",
      "Episode: 1, Action: 2, Reward: 992, State: (992, 65, 67)\n",
      "Episode: 1, Action: 1, Reward: 991, State: (991, 65, 69)\n",
      "Episode: 1, Action: 1, Reward: 990, State: (990, 65, 71)\n",
      "Episode: 1, Action: 0, Reward: -5000, State: (988, 68, 73)\n",
      "Episode: 2, Action: 1, Reward: 999, State: (999, 50, 73)\n",
      "Episode: 2, Action: 1, Reward: 998, State: (998, 50, 75)\n",
      "Episode: 2, Action: 1, Reward: -25000, State: (997, 50, 75)\n",
      "Episode: 3, Action: 2, Reward: 1002, State: (1002, 50, 77)\n",
      "Episode: 3, Action: 1, Reward: 1001, State: (1001, 50, 77)\n",
      "Episode: 3, Action: 1, Reward: -27000, State: (1000, 50, 77)\n",
      "Episode: 4, Action: 2, Reward: 1002, State: (1002, 50, 79)\n",
      "Episode: 4, Action: 1, Reward: 1001, State: (1001, 50, 80)\n",
      "Episode: 4, Action: 0, Reward: 999, State: (999, 53, 82)\n",
      "Episode: 4, Action: 1, Reward: -31000, State: (998, 53, 84)\n",
      "Episode: 5, Action: 0, Reward: 998, State: (998, 53, 86)\n",
      "Episode: 5, Action: 0, Reward: 996, State: (996, 56, 89)\n",
      "Episode: 5, Action: 0, Reward: 994, State: (994, 59, 90)\n",
      "Episode: 5, Action: 1, Reward: 993, State: (993, 59, 90)\n",
      "Episode: 5, Action: 0, Reward: 991, State: (991, 62, 92)\n",
      "Episode: 5, Action: 0, Reward: 989, State: (989, 65, 93)\n",
      "Episode: 5, Action: 1, Reward: -30000, State: (988, 65, 95)\n",
      "Episode: 6, Action: 2, Reward: -46000, State: (1002, 50, 96)\n",
      "Episode: 7, Action: 1, Reward: 999, State: (999, 50, 97)\n",
      "Episode: 7, Action: 1, Reward: 998, State: (998, 50, 97)\n",
      "Episode: 7, Action: 1, Reward: 997, State: (997, 50, 98)\n",
      "Episode: 7, Action: 1, Reward: 996, State: (996, 50, 99)\n",
      "Episode: 7, Action: 0, Reward: -47000, State: (994, 53, 100)\n",
      "Episode: 8, Action: 2, Reward: 1002, State: (1002, 50, 101)\n",
      "Episode: 8, Action: 1, Reward: -53000, State: (1001, 50, 103)\n",
      "Episode: 9, Action: 1, Reward: 999, State: (999, 50, 104)\n",
      "Episode: 9, Action: 2, Reward: 1001, State: (1001, 50, 107)\n",
      "Episode: 9, Action: 2, Reward: 1003, State: (1003, 50, 110)\n",
      "Episode: 9, Action: 2, Reward: 1005, State: (1005, 50, 111)\n",
      "Episode: 9, Action: 2, Reward: 1007, State: (1007, 50, 112)\n",
      "Episode: 9, Action: 1, Reward: -63000, State: (1006, 50, 113)\n",
      "Episode: 10, Action: 1, Reward: -64000, State: (999, 50, 114)\n"
     ]
    }
   ],
   "source": [
    "episodes = 10\n",
    "for episode in range(1, episodes +1):\n",
    "    state = env.reset(1000, 50, 70)\n",
    "    done = False\n",
    "    while not done:\n",
    "        action = env.action_space.sample()\n",
    "        state, reward, done, info = env.step(action)\n",
    "        print(f\"Episode: {episode}, Action: {action}, Reward: {reward}, State: {state}\")"
   ]
  },
  {
   "cell_type": "markdown",
   "metadata": {},
   "source": [
    "# Deep Learning Model"
   ]
  },
  {
   "cell_type": "code",
   "execution_count": null,
   "metadata": {},
   "outputs": [],
   "source": []
  },
  {
   "cell_type": "code",
   "execution_count": null,
   "metadata": {},
   "outputs": [],
   "source": []
  },
  {
   "cell_type": "markdown",
   "metadata": {},
   "source": []
  }
 ],
 "metadata": {
  "kernelspec": {
   "display_name": "Python 3",
   "language": "python",
   "name": "python3"
  },
  "language_info": {
   "codemirror_mode": {
    "name": "ipython",
    "version": 3
   },
   "file_extension": ".py",
   "mimetype": "text/x-python",
   "name": "python",
   "nbconvert_exporter": "python",
   "pygments_lexer": "ipython3",
   "version": "3.11.9"
  }
 },
 "nbformat": 4,
 "nbformat_minor": 2
}
